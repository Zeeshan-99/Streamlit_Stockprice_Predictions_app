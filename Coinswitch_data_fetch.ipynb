{
 "cells": [
  {
   "cell_type": "code",
   "execution_count": null,
   "metadata": {},
   "outputs": [],
   "source": [
    "import json\n",
    "from websockets import connect\n",
    "import websocket\n",
    "import pandas as pd "
   ]
  },
  {
   "cell_type": "code",
   "execution_count": null,
   "metadata": {},
   "outputs": [],
   "source": [
    "# !pip install websocket-client"
   ]
  },
  {
   "cell_type": "code",
   "execution_count": null,
   "metadata": {},
   "outputs": [],
   "source": [
    "# !pip install websocket"
   ]
  },
  {
   "cell_type": "code",
   "execution_count": null,
   "metadata": {},
   "outputs": [],
   "source": [
    "# # Replace with your actual API key\n",
    "# # API_KEY = \"YOUR_API_KEY\"\n",
    "\n",
    "# async def get_candlestick_data():\n",
    "#     uri = \"wss://coinswitch.co/api/ws\"  # WebSocket endpoint URL\n",
    "#     async with connect(uri) as websocket:\n",
    "#         # Subscribe to the channel for the desired currency pair\n",
    "#         await websocket.send(json.dumps({\"setOp\": \"subscribe\", \"args\": [\"spot-btcusdt\"]}))\n",
    "\n",
    "#         while True:\n",
    "#             try:\n",
    "#                 data = await websocket.recv()\n",
    "#                 # Parse JSON data\n",
    "#                 parsed_data = json.loads(data)\n",
    "\n",
    "#                 if \"k\" in parsed_data:  # Check for candlestick data\n",
    "#                     # Extract relevant information (replace with specific keys you need)\n",
    "#                     open_price = parsed_data[\"k\"][\"o\"]\n",
    "#                     high_price = parsed_data[\"k\"][\"h\"]\n",
    "#                     low_price = parsed_data[\"k\"][\"l\"]\n",
    "#                     close_price = parsed_data[\"k\"][\"c\"]\n",
    "#                     volume = parsed_da[\"k\"][\"v\"]\n",
    "\n",
    "#                     # Process the data (e.g., print, store in database)\n",
    "#                     print(f\"Open: {open_price}, High: {high_price}, Low: {low_price}, Close: {close_price}, Volume: {volume}\")\n",
    "\n",
    "#             except Exception as e:\n",
    "#                 print(f\"Error: {e}\")\n",
    "#                 break  # Handle errors and disconnect if needed\n",
    "\n",
    "# if __name__ == \"__main__\":\n",
    "#     import asyncio\n",
    "#     asyncio.get_event_loop().run_until_complete(get_candlestick_data())\n"
   ]
  },
  {
   "cell_type": "code",
   "execution_count": null,
   "metadata": {},
   "outputs": [],
   "source": [
    "# import json\n",
    "# import websocket\n",
    "\n",
    "# assets = ['BTCUSDT', 'ETHUSDT', 'BNBUSDT']\n",
    "\n",
    "# assets = [coin.lower() + '@kline_1m' for coin in assets]\n",
    "# assets = '/'.join(assets)\n",
    "\n",
    "# def on_message(ws, message):\n",
    "#     message = json.loads(message)\n",
    "#     print(message)\n",
    "\n",
    "# def on_error(ws, error):\n",
    "#     print(error)\n",
    "\n",
    "# def on_close(ws):\n",
    "#     print(\"### closed ###\")\n",
    "\n",
    "# def on_open(ws):\n",
    "#     print(\"### connected ###\")\n",
    "\n",
    "# socket = \"wss://stream.binance.com:9443/stream?streams=\" + assets\n",
    "# ws = websocket.WebSocketApp(socket,\n",
    "#                             on_message=on_message,\n",
    "#                             on_error=on_error,\n",
    "#                             on_close=on_close)\n",
    "# ws.on_open = on_open\n",
    "\n",
    "# ws.run_forever()\n"
   ]
  }
 ],
 "metadata": {
  "kernelspec": {
   "display_name": "tensorflow",
   "language": "python",
   "name": "python3"
  },
  "language_info": {
   "codemirror_mode": {
    "name": "ipython",
    "version": 3
   },
   "file_extension": ".py",
   "mimetype": "text/x-python",
   "name": "python",
   "nbconvert_exporter": "python",
   "pygments_lexer": "ipython3",
   "version": "3.10.9"
  }
 },
 "nbformat": 4,
 "nbformat_minor": 2
}
